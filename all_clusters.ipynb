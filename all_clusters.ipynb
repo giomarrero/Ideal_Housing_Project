{
 "cells": [
  {
   "cell_type": "code",
   "execution_count": 1,
   "id": "6045d4c2-5203-4275-a3c4-40a74eed5282",
   "metadata": {
    "ExecuteTime": {
     "end_time": "2024-03-31T03:07:33.056965Z",
     "start_time": "2024-03-31T03:07:22.942998Z"
    }
   },
   "outputs": [
    {
     "name": "stdout",
     "output_type": "stream",
     "text": [
      "economic_factors_ecosystem_factors\n"
     ]
    },
    {
     "ename": "NameError",
     "evalue": "name 'factor_cons_df' is not defined",
     "output_type": "error",
     "traceback": [
      "\u001B[0;31m---------------------------------------------------------------------------\u001B[0m",
      "\u001B[0;31mNameError\u001B[0m                                 Traceback (most recent call last)",
      "Cell \u001B[0;32mIn[1], line 9\u001B[0m\n\u001B[1;32m      7\u001B[0m \u001B[38;5;28;01mif\u001B[39;00m a \u001B[38;5;241m!=\u001B[39m b:\n\u001B[1;32m      8\u001B[0m     \u001B[38;5;28mprint\u001B[39m(a \u001B[38;5;241m+\u001B[39m \u001B[38;5;124m'\u001B[39m\u001B[38;5;124m_\u001B[39m\u001B[38;5;124m'\u001B[39m \u001B[38;5;241m+\u001B[39m b)\n\u001B[0;32m----> 9\u001B[0m     fig \u001B[38;5;241m=\u001B[39m plt\u001B[38;5;241m.\u001B[39mscatter(x \u001B[38;5;241m=\u001B[39m factor_cons_df[a], y \u001B[38;5;241m=\u001B[39m factor_cons_df[b], c \u001B[38;5;241m=\u001B[39m factor_cons_df[\u001B[38;5;124m'\u001B[39m\u001B[38;5;124mCluster\u001B[39m\u001B[38;5;124m'\u001B[39m])\n\u001B[1;32m     10\u001B[0m     plt\u001B[38;5;241m.\u001B[39mxlabel (a)\n\u001B[1;32m     11\u001B[0m     plt\u001B[38;5;241m.\u001B[39mylabel (b)\n",
      "\u001B[0;31mNameError\u001B[0m: name 'factor_cons_df' is not defined"
     ]
    }
   ],
   "source": [
    "import matplotlib.pyplot as plt\n",
    "allplots = ['economic_factors','ecosystem_factors','education_factors','health_factors','living_standards_factors','safety_factors','nature_factors']\n",
    "\n",
    "#2d plots\n",
    "for i in enumerate(allplots):\n",
    "    for b in allplots[i[0]:]:\n",
    "        if i[1] != b:\n",
    "            print(i[1] + '_' + b)\n",
    "            fig = plt.scatter(x = factor_cons_df[i[1]], y = factor_cons_df[b], c = factor_cons_df['Cluster'])\n",
    "            plt.xlabel (i[1])\n",
    "            plt.ylabel (b)\n",
    "            plt.legend(handles=fig.legend_elements()[0], labels=[1,2,3,4,5,6,7,8,9,10], prop={'size': 6})\n",
    "            plt.savefig(i[1] + '_' + b + '.png')\n",
    "            plt.close()\n",
    "\n",
    "#3d plots\n",
    "for i1 in enumerate(allplots):\n",
    "    for i2 in enumerate(allplots[i1[0]:]):\n",
    "        for d in allplots[i2[0]:]:\n",
    "            if i1[1] != i2[1] and i1[1] != d and i2[1] != d:\n",
    "                print(i1[1] + '_' + i2[1] + '_' + d)\n",
    "                fig = plt.figure(figsize = (10,7))\n",
    "                ax = plt.axes(projection =\"3d\")\n",
    "                fig = ax.scatter(xs = factor_cons_df[i1[1]], ys = factor_cons_df[i2[1]], zs = factor_cons_df[d], c = factor_cons_df['Cluster'])\n",
    "                ax.set_xlabel(i1[1])\n",
    "                ax.set_ylabel(i2[1])\n",
    "                ax.set_zlabel(d)\n",
    "                ax.legend(handles=fig.legend_elements()[0], labels=[1,2,3,4,5,6,7,8,9,10], prop={'size': 6})\n",
    "                plt.savefig(i1[1] + '_' + i2[1] + '_' + d + '.png')\n",
    "                plt.close()"
   ]
  }
 ],
 "metadata": {
  "kernelspec": {
   "display_name": "Python 3 (ipykernel)",
   "language": "python",
   "name": "python3"
  },
  "language_info": {
   "codemirror_mode": {
    "name": "ipython",
    "version": 3
   },
   "file_extension": ".py",
   "mimetype": "text/x-python",
   "name": "python",
   "nbconvert_exporter": "python",
   "pygments_lexer": "ipython3",
   "version": "3.8.18"
  }
 },
 "nbformat": 4,
 "nbformat_minor": 5
}
