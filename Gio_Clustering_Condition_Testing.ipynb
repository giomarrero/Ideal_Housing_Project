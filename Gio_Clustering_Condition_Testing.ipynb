{
 "cells": [
  {
   "cell_type": "code",
   "execution_count": 15,
   "id": "ad7d83d0",
   "metadata": {},
   "outputs": [],
   "source": [
    "import pandas as pd\n",
    "import numpy as np\n",
    "import matplotlib.pyplot as plt\n",
    "import sklearn\n",
    "from sklearn.datasets import load_iris\n",
    "from sklearn.preprocessing import StandardScaler\n",
    "from sklearn.decomposition import PCA\n",
    "from sklearn.cluster import KMeans\n",
    "from sklearn.neighbors import NearestNeighbors\n",
    "from sklearn import cluster\n",
    "from sklearn.metrics import silhouette_score\n",
    "import seaborn as sns\n",
    "import matplotlib.pyplot as plt"
   ]
  },
  {
   "cell_type": "code",
   "execution_count": 159,
   "id": "e16e2ab2",
   "metadata": {},
   "outputs": [],
   "source": [
    "from sklearn import metrics\n",
    "from sklearn.cluster import DBSCAN\n",
    "from sklearn.cluster import HDBSCAN"
   ]
  },
  {
   "cell_type": "code",
   "execution_count": 2,
   "id": "120582fb",
   "metadata": {},
   "outputs": [],
   "source": [
    "zip_df = pd.read_csv('/Users/gmarrero/Desktop/6242_Project/flaskProject/static/scores_combined.csv')"
   ]
  },
  {
   "cell_type": "code",
   "execution_count": 3,
   "id": "667e7b08",
   "metadata": {},
   "outputs": [
    {
     "name": "stdout",
     "output_type": "stream",
     "text": [
      "      Unnamed: 0   FIPS      County          State  HWBI_Score  C2N_Bio_Score  \\\n",
      "0              0  40151       Woods       Oklahoma   55.161194      34.720764   \n",
      "1              1  21063     Elliott       Kentucky   53.100766      84.781353   \n",
      "2              2  25003   Berkshire  Massachusetts   50.232821      57.364983   \n",
      "3              3  29041    Chariton       Missouri   52.413235      20.823386   \n",
      "4              4   8103  Rio Blanco       Colorado   48.078107      10.000000   \n",
      "...          ...    ...         ...            ...         ...            ...   \n",
      "3137       15413  13123      Gilmer        Georgia   49.914918      90.000000   \n",
      "3138       15414  27135      Roseau      Minnesota   55.850705      27.772075   \n",
      "3139       15415  28089     Madison    Mississippi   49.612078      57.364983   \n",
      "3140       15416  48227      Howard          Texas   48.845005      20.823386   \n",
      "3141       15417  54099       Wayne  West Virginia   50.374963      57.364983   \n",
      "\n",
      "      CF_AP_Score  Economic_Capital_Investment_Score  \\\n",
      "0       69.829790                          59.199260   \n",
      "1       34.335369                          57.939995   \n",
      "2       45.138996                          59.207243   \n",
      "3       68.858149                          59.456203   \n",
      "4       60.489579                          58.507754   \n",
      "...           ...                                ...   \n",
      "3137    37.004510                          58.440963   \n",
      "3138    67.782302                          59.164270   \n",
      "3139    37.478640                          58.244304   \n",
      "3140    61.585942                          59.047781   \n",
      "3141    44.233455                          59.216921   \n",
      "\n",
      "      Economic_Consumption_Score  Economic_Employment_Score  ...  \\\n",
      "0                      52.805008                  64.801077  ...   \n",
      "1                      50.859656                  50.072366  ...   \n",
      "2                      51.999767                  61.058429  ...   \n",
      "3                      52.995878                  61.578123  ...   \n",
      "4                      52.222324                  63.527580  ...   \n",
      "...                          ...                        ...  ...   \n",
      "3137                   51.036026                  53.932548  ...   \n",
      "3138                   52.739182                  51.116989  ...   \n",
      "3139                   50.972423                  63.619362  ...   \n",
      "3140                   51.892534                  60.885290  ...   \n",
      "3141                   52.006527                  59.208785  ...   \n",
      "\n",
      "      LST_WRK_Score  SAS_ACTS_Score  SAS_PERS_Score  SAS_RISK_Score  \\\n",
      "0         58.395634       68.652133       80.909091       42.794208   \n",
      "1         57.392366       77.005700       45.555556       43.026794   \n",
      "2         48.362162       66.246042       62.815534       43.139662   \n",
      "3         52.923858       74.634952       74.615385       43.260743   \n",
      "4         61.199105       62.683754       83.750000       58.131761   \n",
      "...             ...             ...             ...             ...   \n",
      "3137      40.636763       74.546238       62.727273       59.478518   \n",
      "3138      60.289013       80.718117       78.461538       53.153550   \n",
      "3139      50.454337       72.150347       66.404494       57.137027   \n",
      "3140      60.098022       67.055296       50.714286       40.962622   \n",
      "3141      48.024025       69.957336       54.615385       51.683118   \n",
      "\n",
      "      Domain_Score_y  SC_ATC_Score  SC_DME_Score  SC_FAM_Score  SC_SENG_Score  \\\n",
      "0          58.408205     62.323692     53.302439     50.738621      62.578540   \n",
      "1          48.532654     57.947043     49.275126     47.235705      50.173505   \n",
      "2          40.445938     45.339824     43.461534     35.074866      31.322056   \n",
      "3          65.578619     78.667534     58.443685     54.325974      76.726305   \n",
      "4          68.838259     76.434219     62.605339     56.294045      84.049649   \n",
      "...              ...           ...           ...           ...            ...   \n",
      "3137       36.994277     52.997193     43.310720     34.779071      30.044315   \n",
      "3138       66.207569     68.103983     56.080726     61.465169      82.125018   \n",
      "3139       40.765040     44.417993     44.104674     35.570422      27.447950   \n",
      "3140       62.054417     71.032446     54.109425     52.044352      75.341990   \n",
      "3141       42.842216     45.318001     45.359226     45.675735      34.407751   \n",
      "\n",
      "      SC_SSUP_Score  \n",
      "0         63.097732  \n",
      "1         38.031892  \n",
      "2         47.031408  \n",
      "3         59.729598  \n",
      "4         64.808043  \n",
      "...             ...  \n",
      "3137      23.840088  \n",
      "3138      63.262951  \n",
      "3139      52.284162  \n",
      "3140      57.743871  \n",
      "3141      43.450367  \n",
      "\n",
      "[3142 rows x 44 columns]\n"
     ]
    }
   ],
   "source": [
    "print(zip_df)"
   ]
  },
  {
   "cell_type": "code",
   "execution_count": 6,
   "id": "d76e330c",
   "metadata": {},
   "outputs": [
    {
     "name": "stdout",
     "output_type": "stream",
     "text": [
      "      C2N_Bio_Score  CF_AP_Score  Economic_Capital_Investment_Score  \\\n",
      "0         34.720764    69.829790                          59.199260   \n",
      "1         84.781353    34.335369                          57.939995   \n",
      "2         57.364983    45.138996                          59.207243   \n",
      "3         20.823386    68.858149                          59.456203   \n",
      "4         10.000000    60.489579                          58.507754   \n",
      "...             ...          ...                                ...   \n",
      "3137      90.000000    37.004510                          58.440963   \n",
      "3138      27.772075    67.782302                          59.164270   \n",
      "3139      57.364983    37.478640                          58.244304   \n",
      "3140      20.823386    61.585942                          59.047781   \n",
      "3141      57.364983    44.233455                          59.216921   \n",
      "\n",
      "      Economic_Consumption_Score  Economic_Employment_Score  \\\n",
      "0                      52.805008                  64.801077   \n",
      "1                      50.859656                  50.072366   \n",
      "2                      51.999767                  61.058429   \n",
      "3                      52.995878                  61.578123   \n",
      "4                      52.222324                  63.527580   \n",
      "...                          ...                        ...   \n",
      "3137                   51.036026                  53.932548   \n",
      "3138                   52.739182                  51.116989   \n",
      "3139                   50.972423                  63.619362   \n",
      "3140                   51.892534                  60.885290   \n",
      "3141                   52.006527                  59.208785   \n",
      "\n",
      "      Economic_Finance_Score  Economic_Innovation_Score  \\\n",
      "0                  48.372669                  46.541112   \n",
      "1                  43.929580                  45.579734   \n",
      "2                  45.803496                  40.584507   \n",
      "3                  47.608823                  46.791289   \n",
      "4                  50.728576                  36.446373   \n",
      "...                      ...                        ...   \n",
      "3137               44.476797                  42.005745   \n",
      "3138               49.866471                  62.339488   \n",
      "3139               49.327885                  39.935941   \n",
      "3140               45.028344                  33.381680   \n",
      "3141               44.446887                  43.341533   \n",
      "\n",
      "      Economic_Production_Score  Economic_Re_Distribution_Score  \\\n",
      "0                     49.121290                       51.446876   \n",
      "1                     51.671932                       48.284637   \n",
      "2                     51.345882                       30.069198   \n",
      "3                     47.812474                       53.545655   \n",
      "4                     48.584316                       54.809372   \n",
      "...                         ...                             ...   \n",
      "3137                  50.581057                       50.804576   \n",
      "3138                  49.288826                       52.138906   \n",
      "3139                  47.894368                       48.335471   \n",
      "3140                  48.687934                       54.725588   \n",
      "3141                  47.591547                       46.297338   \n",
      "\n",
      "      Ecosystem_Air_Quality_Score  ...  LST_WRK_Score  SAS_ACTS_Score  \\\n",
      "0                       90.000000  ...      58.395634       68.652133   \n",
      "1                       88.924975  ...      57.392366       77.005700   \n",
      "2                       39.101017  ...      48.362162       66.246042   \n",
      "3                       88.989934  ...      52.923858       74.634952   \n",
      "4                       90.000000  ...      61.199105       62.683754   \n",
      "...                           ...  ...            ...             ...   \n",
      "3137                    90.000000  ...      40.636763       74.546238   \n",
      "3138                    90.000000  ...      60.289013       80.718117   \n",
      "3139                    62.676294  ...      50.454337       72.150347   \n",
      "3140                    86.346847  ...      60.098022       67.055296   \n",
      "3141                    90.000000  ...      48.024025       69.957336   \n",
      "\n",
      "      SAS_PERS_Score  SAS_RISK_Score  Domain_Score_y  SC_ATC_Score  \\\n",
      "0          80.909091       42.794208       58.408205     62.323692   \n",
      "1          45.555556       43.026794       48.532654     57.947043   \n",
      "2          62.815534       43.139662       40.445938     45.339824   \n",
      "3          74.615385       43.260743       65.578619     78.667534   \n",
      "4          83.750000       58.131761       68.838259     76.434219   \n",
      "...              ...             ...             ...           ...   \n",
      "3137       62.727273       59.478518       36.994277     52.997193   \n",
      "3138       78.461538       53.153550       66.207569     68.103983   \n",
      "3139       66.404494       57.137027       40.765040     44.417993   \n",
      "3140       50.714286       40.962622       62.054417     71.032446   \n",
      "3141       54.615385       51.683118       42.842216     45.318001   \n",
      "\n",
      "      SC_DME_Score  SC_FAM_Score  SC_SENG_Score  SC_SSUP_Score  \n",
      "0        53.302439     50.738621      62.578540      63.097732  \n",
      "1        49.275126     47.235705      50.173505      38.031892  \n",
      "2        43.461534     35.074866      31.322056      47.031408  \n",
      "3        58.443685     54.325974      76.726305      59.729598  \n",
      "4        62.605339     56.294045      84.049649      64.808043  \n",
      "...            ...           ...            ...            ...  \n",
      "3137     43.310720     34.779071      30.044315      23.840088  \n",
      "3138     56.080726     61.465169      82.125018      63.262951  \n",
      "3139     44.104674     35.570422      27.447950      52.284162  \n",
      "3140     54.109425     52.044352      75.341990      57.743871  \n",
      "3141     45.359226     45.675735      34.407751      43.450367  \n",
      "\n",
      "[3142 rows x 39 columns]\n"
     ]
    }
   ],
   "source": [
    "factors_df=zip_df[['C2N_Bio_Score',\n",
    "       'CF_AP_Score', 'Economic_Capital_Investment_Score',\n",
    "       'Economic_Consumption_Score', 'Economic_Employment_Score',\n",
    "       'Economic_Finance_Score', 'Economic_Innovation_Score',\n",
    "       'Economic_Production_Score', 'Economic_Re_Distribution_Score',\n",
    "       'Ecosystem_Air_Quality_Score',\n",
    "       'Ecosystem_Food__Fiber_and_Fuel_Provisioning_Score',\n",
    "       'Ecosystem_Greenspace_Score', 'Ecosystem_Water_Quality_Score',\n",
    "       'Ecosystem_Water_Quantity_Score', 'EDU_BE_Score', 'EDU_PA_Score',\n",
    "       'EDU_SED_Score', 'HEA_HC_Score', 'HEA_LEM_Score', 'HEA_LB_Score',\n",
    "       'HEA_PWB_Score', 'HEA_PMHC_Score', 'Domain_Score_x', 'LTM_AP_Score',\n",
    "       'LTM_TS_Score', 'LTM_WAA_Score', 'LST_BN_Score', 'LST_INC_Score',\n",
    "       'LST_WEA_Score', 'LST_WRK_Score', 'SAS_ACTS_Score', 'SAS_PERS_Score',\n",
    "       'SAS_RISK_Score', 'Domain_Score_y', 'SC_ATC_Score', 'SC_DME_Score',\n",
    "       'SC_FAM_Score', 'SC_SENG_Score', 'SC_SSUP_Score']]\n",
    "print(factors_df)"
   ]
  },
  {
   "cell_type": "code",
   "execution_count": 7,
   "id": "09b178dd",
   "metadata": {},
   "outputs": [],
   "source": [
    "economic=['Economic_Capital_Investment_Score',\n",
    "       'Economic_Consumption_Score', 'Economic_Employment_Score',\n",
    "       'Economic_Finance_Score', 'Economic_Innovation_Score',\n",
    "       'Economic_Production_Score', 'Economic_Re_Distribution_Score']\n",
    "ecosystem=['Ecosystem_Air_Quality_Score',\n",
    "       'Ecosystem_Food__Fiber_and_Fuel_Provisioning_Score',\n",
    "       'Ecosystem_Greenspace_Score', 'Ecosystem_Water_Quality_Score',\n",
    "       'Ecosystem_Water_Quantity_Score']\n",
    "education=['EDU_BE_Score', 'EDU_PA_Score',\n",
    "       'EDU_SED_Score']\n",
    "health=['HEA_HC_Score', 'HEA_LEM_Score', 'HEA_LB_Score',\n",
    "       'HEA_PWB_Score', 'HEA_PMHC_Score']\n",
    "#leisure_time=['LTM_AP_Score',\n",
    "       #'LTM_TS_Score', 'LTM_WAA_Score']\n",
    "living_standards=['LST_BN_Score', 'LST_INC_Score',\n",
    "       'LST_WEA_Score', 'LST_WRK_Score']\n",
    "safety=['SAS_ACTS_Score', 'SAS_PERS_Score',\n",
    "       'SAS_RISK_Score']\n",
    "#social_cohesion=['SC_ATC_Score', 'SC_DME_Score',\n",
    "       #'SC_FAM_Score', 'SC_SENG_Score', 'SC_SSUP_Score']\n",
    "nature=['C2N_Bio_Score',\n",
    "       'CF_AP_Score']"
   ]
  },
  {
   "cell_type": "code",
   "execution_count": 8,
   "id": "c0ff553a",
   "metadata": {},
   "outputs": [
    {
     "name": "stdout",
     "output_type": "stream",
     "text": [
      "      economic_factors  ecosystem_factors  education_factors  health_factors  \\\n",
      "0            53.183899          56.705207          57.570552       61.546898   \n",
      "1            49.762557          57.056901          55.837728       60.756384   \n",
      "2            48.581217          44.821291          38.676783       59.180942   \n",
      "3            52.826921          58.618382          64.412796       60.421936   \n",
      "4            52.118042          60.359334          68.259172       56.008795   \n",
      "...                ...                ...                ...             ...   \n",
      "3137         50.182530          58.274115          35.645556       52.433628   \n",
      "3138         53.807733          60.759004          63.679422       63.305095   \n",
      "3139         51.189965          50.645817          36.881601       57.017909   \n",
      "3140         50.521307          56.670083          57.174736       54.226828   \n",
      "3141         50.301362          55.041733          45.050164       53.259282   \n",
      "\n",
      "      living_standards_factors  safety_factors  nature_factors  \n",
      "0                    53.586285       64.118477       52.275277  \n",
      "1                    47.890568       55.196016       59.558361  \n",
      "2                    52.542980       57.400413       51.251989  \n",
      "3                    51.646854       64.170360       44.840767  \n",
      "4                    56.730597       68.188505       35.244790  \n",
      "...                        ...             ...             ...  \n",
      "3137                 45.545165       65.584010       63.502255  \n",
      "3138                 57.620134       70.777735       47.777189  \n",
      "3139                 49.843626       65.230623       47.421811  \n",
      "3140                 53.351582       52.910734       41.204664  \n",
      "3141                 48.239379       58.751946       50.799219  \n",
      "\n",
      "[3142 rows x 7 columns]\n"
     ]
    }
   ],
   "source": [
    "factor_cons_df=pd.DataFrame()\n",
    "factor_cons_df['economic_factors']=factors_df[economic].mean(axis=1)\n",
    "factor_cons_df['ecosystem_factors']=factors_df[ecosystem].mean(axis=1)\n",
    "factor_cons_df['education_factors']=factors_df[education].mean(axis=1)\n",
    "factor_cons_df['health_factors']=factors_df[health].mean(axis=1)\n",
    "factor_cons_df['living_standards_factors']=factors_df[living_standards].mean(axis=1)\n",
    "factor_cons_df['safety_factors']=factors_df[safety].mean(axis=1)\n",
    "factor_cons_df['nature_factors']=factors_df[nature].mean(axis=1)\n",
    "print(factor_cons_df)"
   ]
  },
  {
   "cell_type": "code",
   "execution_count": 45,
   "id": "fb382b68",
   "metadata": {},
   "outputs": [],
   "source": [
    "X=factor_cons_df.to_numpy()"
   ]
  },
  {
   "cell_type": "code",
   "execution_count": 13,
   "id": "e4268838",
   "metadata": {},
   "outputs": [
    {
     "name": "stdout",
     "output_type": "stream",
     "text": [
      "[[53.18389873 56.70520746 57.57055247 ... 53.58628471 64.11847739\n",
      "  52.27527683]\n",
      " [49.76255699 57.05690061 55.8377279  ... 47.89056774 55.19601644\n",
      "  59.55836058]\n",
      " [48.58121749 44.82129149 38.67678348 ... 52.54297985 57.40041288\n",
      "  51.25198925]\n",
      " ...\n",
      " [51.18996493 50.64581685 36.88160099 ... 49.84362611 65.23062279\n",
      "  47.42181145]\n",
      " [50.52130724 56.67008305 57.17473614 ... 53.35158159 52.91073446\n",
      "  41.20466411]\n",
      " [50.30136241 55.04173297 45.05016439 ... 48.23937936 58.7519462\n",
      "  50.79921901]]\n"
     ]
    }
   ],
   "source": [
    "dataset_array = factor_cons_df.values\n",
    "\n",
    "print(dataset_array)"
   ]
  },
  {
   "cell_type": "code",
   "execution_count": 28,
   "id": "9b5eeb70",
   "metadata": {},
   "outputs": [
    {
     "name": "stderr",
     "output_type": "stream",
     "text": [
      "/Users/gmarrero/anaconda3/lib/python3.11/site-packages/sklearn/cluster/_kmeans.py:1412: FutureWarning: The default value of `n_init` will change from 10 to 'auto' in 1.4. Set the value of `n_init` explicitly to suppress the warning\n",
      "  super()._check_params_vs_input(X, default_n_init=10)\n"
     ]
    },
    {
     "name": "stdout",
     "output_type": "stream",
     "text": [
      "Silhouette Score: 0.2506191160131451\n",
      "Labels:  [0 0 4 ... 4 3 4]\n",
      "Centorids:  [[50.74758001 56.63669566 55.10628844 59.11167519 51.86989202 63.93055916\n",
      "  55.75991164]\n",
      " [49.37321635 58.06878624 35.80769897 57.3983139  47.24861528 56.87822223\n",
      "  62.7928863 ]\n",
      " [50.55953181 41.29768897 53.38121891 60.3997002  53.91251551 64.89517484\n",
      "  50.89196033]\n",
      " [51.1574004  57.53235044 62.84806233 59.4109978  54.25413474 63.22790874\n",
      "  44.91104521]\n",
      " [50.20723001 52.03204438 41.79023162 57.45394747 49.73804251 56.64958345\n",
      "  50.16326422]]\n"
     ]
    }
   ],
   "source": [
    "### K-Means Cluster with K = 5 ###\n",
    "\n",
    "# Convert DataFrame to matrix\n",
    "mat = dataset_array\n",
    "# Using sklearn\n",
    "km = sklearn.cluster.KMeans(n_clusters=5)\n",
    "km.fit(mat)\n",
    "# Get cluster assignment labels\n",
    "labels = km.labels_\n",
    "# Format results as a DataFrame\n",
    "results = pd.DataFrame([zip_df.index,labels]).T\n",
    "\n",
    "\n",
    "# Silhouette score\n",
    "silhouette_avg = silhouette_score(mat, labels)\n",
    "\n",
    "print(\"Silhouette Score:\", silhouette_avg)\n",
    "\n",
    "centroids=km.cluster_centers_\n",
    "print(\"Labels: \",labels)\n",
    "print(\"Centorids: \",centroids)\n",
    "\n",
    "# Higher silhouette scores indicate better-defined clusters,\n",
    "# with a maximum value of 1 indicating dense, well-separated clusters."
   ]
  },
  {
   "cell_type": "code",
   "execution_count": 29,
   "id": "0ad3cc6e",
   "metadata": {},
   "outputs": [
    {
     "name": "stdout",
     "output_type": "stream",
     "text": [
      "economic_factors_ecosystem_factors\n"
     ]
    },
    {
     "ename": "KeyError",
     "evalue": "'economic_factors'",
     "output_type": "error",
     "traceback": [
      "\u001b[0;31m---------------------------------------------------------------------------\u001b[0m",
      "\u001b[0;31mKeyError\u001b[0m                                  Traceback (most recent call last)",
      "Cell \u001b[0;32mIn[29], line 9\u001b[0m\n\u001b[1;32m      7\u001b[0m \u001b[38;5;28;01mif\u001b[39;00m a \u001b[38;5;241m!=\u001b[39m b:\n\u001b[1;32m      8\u001b[0m     \u001b[38;5;28mprint\u001b[39m(a \u001b[38;5;241m+\u001b[39m \u001b[38;5;124m'\u001b[39m\u001b[38;5;124m_\u001b[39m\u001b[38;5;124m'\u001b[39m \u001b[38;5;241m+\u001b[39m b)\n\u001b[0;32m----> 9\u001b[0m     fig \u001b[38;5;241m=\u001b[39m plt\u001b[38;5;241m.\u001b[39mscatter(x \u001b[38;5;241m=\u001b[39m results[a], y \u001b[38;5;241m=\u001b[39m results[b], c \u001b[38;5;241m=\u001b[39m results[\u001b[38;5;124m'\u001b[39m\u001b[38;5;124mCluster\u001b[39m\u001b[38;5;124m'\u001b[39m])\n\u001b[1;32m     10\u001b[0m     plt\u001b[38;5;241m.\u001b[39mxlabel (a)\n\u001b[1;32m     11\u001b[0m     plt\u001b[38;5;241m.\u001b[39mylabel (b)\n",
      "File \u001b[0;32m~/anaconda3/lib/python3.11/site-packages/pandas/core/frame.py:3761\u001b[0m, in \u001b[0;36mDataFrame.__getitem__\u001b[0;34m(self, key)\u001b[0m\n\u001b[1;32m   3759\u001b[0m \u001b[38;5;28;01mif\u001b[39;00m \u001b[38;5;28mself\u001b[39m\u001b[38;5;241m.\u001b[39mcolumns\u001b[38;5;241m.\u001b[39mnlevels \u001b[38;5;241m>\u001b[39m \u001b[38;5;241m1\u001b[39m:\n\u001b[1;32m   3760\u001b[0m     \u001b[38;5;28;01mreturn\u001b[39;00m \u001b[38;5;28mself\u001b[39m\u001b[38;5;241m.\u001b[39m_getitem_multilevel(key)\n\u001b[0;32m-> 3761\u001b[0m indexer \u001b[38;5;241m=\u001b[39m \u001b[38;5;28mself\u001b[39m\u001b[38;5;241m.\u001b[39mcolumns\u001b[38;5;241m.\u001b[39mget_loc(key)\n\u001b[1;32m   3762\u001b[0m \u001b[38;5;28;01mif\u001b[39;00m is_integer(indexer):\n\u001b[1;32m   3763\u001b[0m     indexer \u001b[38;5;241m=\u001b[39m [indexer]\n",
      "File \u001b[0;32m~/anaconda3/lib/python3.11/site-packages/pandas/core/indexes/range.py:349\u001b[0m, in \u001b[0;36mRangeIndex.get_loc\u001b[0;34m(self, key)\u001b[0m\n\u001b[1;32m    347\u001b[0m         \u001b[38;5;28;01mraise\u001b[39;00m \u001b[38;5;167;01mKeyError\u001b[39;00m(key) \u001b[38;5;28;01mfrom\u001b[39;00m \u001b[38;5;21;01merr\u001b[39;00m\n\u001b[1;32m    348\u001b[0m \u001b[38;5;28;01mif\u001b[39;00m \u001b[38;5;28misinstance\u001b[39m(key, Hashable):\n\u001b[0;32m--> 349\u001b[0m     \u001b[38;5;28;01mraise\u001b[39;00m \u001b[38;5;167;01mKeyError\u001b[39;00m(key)\n\u001b[1;32m    350\u001b[0m \u001b[38;5;28mself\u001b[39m\u001b[38;5;241m.\u001b[39m_check_indexing_error(key)\n\u001b[1;32m    351\u001b[0m \u001b[38;5;28;01mraise\u001b[39;00m \u001b[38;5;167;01mKeyError\u001b[39;00m(key)\n",
      "\u001b[0;31mKeyError\u001b[0m: 'economic_factors'"
     ]
    }
   ],
   "source": [
    "import matplotlib.pyplot as plt\n",
    "allplots = ['economic_factors','ecosystem_factors','education_factors','health_factors','living_standards_factors','safety_factors','nature_factors']\n",
    "\n",
    "#2d plots\n",
    "for a in allplots:\n",
    "    for b in allplots:\n",
    "        if a != b:\n",
    "            print(a + '_' + b)\n",
    "            fig = plt.scatter(x = results[a], y = results[b], c = results['Cluster'])\n",
    "            plt.xlabel (a)\n",
    "            plt.ylabel (b)\n",
    "            plt.legend(handles=fig.legend_elements()[0], labels=[1,2,3,4,5,6,7,8,9,10], prop={'size': 6})\n",
    "            plt.savefig(a + '_' + b + '.png')\n",
    "            plt.close()\n",
    "\n",
    "#3d plots\n",
    "for a in allplots:\n",
    "    for b in allplots:\n",
    "        for d in allplots:\n",
    "            if a != b != d:\n",
    "                print(a + '_' + b + '_' + d)\n",
    "                fig = plt.figure(figsize = (10,7))\n",
    "                ax = plt.axes(projection =\"3d\")\n",
    "                fig = ax.scatter(xs = factor_cons_df[a], ys = factor_cons_df[b], zs = factor_cons_df[d], c = factor_cons_df['Cluster'])\n",
    "                ax.set_xlabel(a)\n",
    "                ax.set_ylabel(b)\n",
    "                ax.set_zlabel(d)\n",
    "                ax.legend(handles=fig.legend_elements()[0], labels=[1,2,3,4,5,6,7,8,9,10], prop={'size': 6})\n",
    "                plt.savefig(a + '_' + b + '_' + d + '.png')\n",
    "                plt.close()"
   ]
  },
  {
   "cell_type": "code",
   "execution_count": 189,
   "id": "e05ecbe5",
   "metadata": {},
   "outputs": [
    {
     "name": "stderr",
     "output_type": "stream",
     "text": [
      "/Users/gmarrero/anaconda3/lib/python3.11/site-packages/sklearn/cluster/_kmeans.py:1412: FutureWarning: The default value of `n_init` will change from 10 to 'auto' in 1.4. Set the value of `n_init` explicitly to suppress the warning\n",
      "  super()._check_params_vs_input(X, default_n_init=10)\n"
     ]
    },
    {
     "name": "stdout",
     "output_type": "stream",
     "text": [
      "Silhouette Score: 0.16913558899490636\n",
      "Labels:  [ 2 15  7 ... 11 14 18]\n",
      "Centorids:  [[50.59239152 58.06415696 60.42313791 57.86439608 53.86559213 63.54867939\n",
      "  43.90293431]\n",
      " [48.4534843  57.85763579 34.40827527 55.54178256 45.73782064 45.55170709\n",
      "  61.99459096]\n",
      " [50.98409809 56.04204255 57.49347504 60.68858383 53.38868111 68.88974109\n",
      "  52.96111673]\n",
      " [50.33714968 45.13781085 47.06298282 58.51200518 51.4048874  60.07375369\n",
      "  50.64624114]\n",
      " [50.27183445 53.73904214 41.5734842  55.90070609 48.50209202 49.03106062\n",
      "  50.32306964]\n",
      " [50.80248139 58.38625533 38.21863916 59.70076013 49.04892941 64.30640223\n",
      "  63.48712945]\n",
      " [50.06032691 57.4337269  59.0105373  56.71024981 52.40625334 58.13303088\n",
      "  49.41241625]\n",
      " [50.55123492 42.76277446 37.06607359 57.60123315 48.83010571 54.38790812\n",
      "  50.40024674]\n",
      " [50.61987657 40.51304804 58.15274635 61.58334616 54.313825   68.52890854\n",
      "  54.15664365]\n",
      " [51.8479668  58.6134026  64.65060909 61.41880282 55.17150378 66.37007621\n",
      "  48.22929267]\n",
      " [50.77039198 40.9878109  47.11379231 62.52796324 56.1221476  68.99977831\n",
      "  51.12041258]\n",
      " [50.72350423 56.81571742 41.54013234 60.35845432 50.98075366 66.38574283\n",
      "  50.89682028]\n",
      " [50.51374987 46.40575595 59.85784484 59.74587406 54.46559766 64.72062146\n",
      "  46.78731838]\n",
      " [51.92895964 57.55142314 66.70223358 60.96881469 54.74475934 65.96429105\n",
      "  38.82307954]\n",
      " [50.60263029 57.20249701 62.7540979  57.40034698 52.74451905 50.9174668\n",
      "  43.95973358]\n",
      " [50.8350412  57.98771416 56.19833201 57.55078893 49.17728713 60.40173387\n",
      "  65.52768957]\n",
      " [50.48133255 36.04061225 48.12908916 57.70901194 51.65009581 55.61471735\n",
      "  50.1485609 ]\n",
      " [50.57514839 56.20991122 49.19918304 58.5928575  51.9229297  60.32325798\n",
      "  50.42916463]\n",
      " [49.68065592 56.79906296 39.76943614 57.21494616 48.9511516  58.27697662\n",
      "  51.12484881]\n",
      " [48.85999675 58.04226132 34.74495386 56.54648125 46.85347021 56.70634825\n",
      "  63.53256743]]\n"
     ]
    }
   ],
   "source": [
    "### K-Means Cluster with K = input###\n",
    "\n",
    "# Convert DataFrame to matrix\n",
    "mat = dataset_array\n",
    "# Using sklearn\n",
    "km = sklearn.cluster.KMeans(n_clusters=20)\n",
    "km.fit(mat)\n",
    "# Get cluster assignment labels\n",
    "labels = km.labels_\n",
    "# Format results as a DataFrame\n",
    "results = pd.DataFrame([zip_df.index,labels]).T\n",
    "\n",
    "\n",
    "# Silhouette score\n",
    "silhouette_avg = silhouette_score(mat, labels)\n",
    "\n",
    "print(\"Silhouette Score:\", silhouette_avg)\n",
    "\n",
    "centroids=km.cluster_centers_\n",
    "print(\"Labels: \",labels)\n",
    "print(\"Centorids: \",centroids)\n",
    "\n",
    "# Higher silhouette scores indicate better-defined clusters,\n",
    "# with a maximum value of 1 indicating dense, well-separated clusters."
   ]
  },
  {
   "cell_type": "code",
   "execution_count": 46,
   "id": "5f83f07f",
   "metadata": {},
   "outputs": [],
   "source": [
    "X1 = StandardScaler().fit_transform(X)"
   ]
  },
  {
   "cell_type": "code",
   "execution_count": 158,
   "id": "dd067b8e",
   "metadata": {},
   "outputs": [
    {
     "name": "stdout",
     "output_type": "stream",
     "text": [
      "Estimated number of clusters: 1\n",
      "Estimated number of noise points: 7\n",
      "Silhouette Coefficient: 0.317\n"
     ]
    }
   ],
   "source": [
    "db = DBSCAN(eps=1.8, min_samples=3).fit(X1)\n",
    "labels = db.labels_\n",
    "\n",
    "# Number of clusters in labels, ignoring noise if present.\n",
    "n_clusters_ = len(set(labels)) - (1 if -1 in labels else 0)\n",
    "n_noise_ = list(labels).count(-1)\n",
    "\n",
    "print(\"Estimated number of clusters: %d\" % n_clusters_)\n",
    "print(\"Estimated number of noise points: %d\" % n_noise_)\n",
    "\n",
    "print(f\"Silhouette Coefficient: {metrics.silhouette_score(X1, labels):.3f}\")"
   ]
  },
  {
   "cell_type": "code",
   "execution_count": 85,
   "id": "48fb561c",
   "metadata": {},
   "outputs": [
    {
     "name": "stdout",
     "output_type": "stream",
     "text": [
      "Estimated number of clusters: 0\n",
      "Estimated number of noise points: 3142\n"
     ]
    }
   ],
   "source": [
    "db = DBSCAN(eps=0.3, min_samples=15).fit(X1)\n",
    "labels = db.labels_\n",
    "\n",
    "# Number of clusters in labels, ignoring noise if present.\n",
    "n_clusters_ = len(set(labels)) - (1 if -1 in labels else 0)\n",
    "n_noise_ = list(labels).count(-1)\n",
    "\n",
    "print(\"Estimated number of clusters: %d\" % n_clusters_)\n",
    "print(\"Estimated number of noise points: %d\" % n_noise_)"
   ]
  },
  {
   "cell_type": "code",
   "execution_count": 86,
   "id": "c1e62cfb",
   "metadata": {},
   "outputs": [
    {
     "name": "stdout",
     "output_type": "stream",
     "text": [
      "Estimated number of clusters: 0\n",
      "Estimated number of noise points: 3142\n"
     ]
    }
   ],
   "source": [
    "db = DBSCAN(eps=0.4, min_samples=15).fit(X1)\n",
    "labels = db.labels_\n",
    "\n",
    "# Number of clusters in labels, ignoring noise if present.\n",
    "n_clusters_ = len(set(labels)) - (1 if -1 in labels else 0)\n",
    "n_noise_ = list(labels).count(-1)\n",
    "\n",
    "print(\"Estimated number of clusters: %d\" % n_clusters_)\n",
    "print(\"Estimated number of noise points: %d\" % n_noise_)"
   ]
  },
  {
   "cell_type": "code",
   "execution_count": 87,
   "id": "2073c365",
   "metadata": {},
   "outputs": [
    {
     "name": "stdout",
     "output_type": "stream",
     "text": [
      "Estimated number of clusters: 0\n",
      "Estimated number of noise points: 3142\n"
     ]
    }
   ],
   "source": [
    "db = DBSCAN(eps=0.5, min_samples=15).fit(X1)\n",
    "labels = db.labels_\n",
    "\n",
    "# Number of clusters in labels, ignoring noise if present.\n",
    "n_clusters_ = len(set(labels)) - (1 if -1 in labels else 0)\n",
    "n_noise_ = list(labels).count(-1)\n",
    "\n",
    "print(\"Estimated number of clusters: %d\" % n_clusters_)\n",
    "print(\"Estimated number of noise points: %d\" % n_noise_)"
   ]
  },
  {
   "cell_type": "code",
   "execution_count": 90,
   "id": "a7f4a918",
   "metadata": {},
   "outputs": [
    {
     "name": "stdout",
     "output_type": "stream",
     "text": [
      "Estimated number of clusters: 0\n",
      "Estimated number of noise points: 3142\n"
     ]
    }
   ],
   "source": [
    "db = DBSCAN(eps=0.6, min_samples=15).fit(X1)\n",
    "labels = db.labels_\n",
    "\n",
    "# Number of clusters in labels, ignoring noise if present.\n",
    "n_clusters_ = len(set(labels)) - (1 if -1 in labels else 0)\n",
    "n_noise_ = list(labels).count(-1)\n",
    "\n",
    "print(\"Estimated number of clusters: %d\" % n_clusters_)\n",
    "print(\"Estimated number of noise points: %d\" % n_noise_)\n",
    "\n",
    "#print(f\"Silhouette Coefficient: {metrics.silhouette_score(X1, labels):.3f}\")"
   ]
  },
  {
   "cell_type": "code",
   "execution_count": 91,
   "id": "1e641383",
   "metadata": {},
   "outputs": [
    {
     "name": "stdout",
     "output_type": "stream",
     "text": [
      "Estimated number of clusters: 0\n",
      "Estimated number of noise points: 3142\n"
     ]
    }
   ],
   "source": [
    "db = DBSCAN(eps=0.7, min_samples=15).fit(X1)\n",
    "labels = db.labels_\n",
    "\n",
    "# Number of clusters in labels, ignoring noise if present.\n",
    "n_clusters_ = len(set(labels)) - (1 if -1 in labels else 0)\n",
    "n_noise_ = list(labels).count(-1)\n",
    "\n",
    "print(\"Estimated number of clusters: %d\" % n_clusters_)\n",
    "print(\"Estimated number of noise points: %d\" % n_noise_)\n",
    "\n",
    "#print(f\"Silhouette Coefficient: {metrics.silhouette_score(X1, labels):.3f}\")"
   ]
  },
  {
   "cell_type": "code",
   "execution_count": 93,
   "id": "bdfe2970",
   "metadata": {},
   "outputs": [
    {
     "name": "stdout",
     "output_type": "stream",
     "text": [
      "Estimated number of clusters: 4\n",
      "Estimated number of noise points: 2844\n",
      "Silhouette Coefficient: -0.335\n"
     ]
    }
   ],
   "source": [
    "db = DBSCAN(eps=0.8, min_samples=15).fit(X1)\n",
    "labels = db.labels_\n",
    "\n",
    "# Number of clusters in labels, ignoring noise if present.\n",
    "n_clusters_ = len(set(labels)) - (1 if -1 in labels else 0)\n",
    "n_noise_ = list(labels).count(-1)\n",
    "\n",
    "print(\"Estimated number of clusters: %d\" % n_clusters_)\n",
    "print(\"Estimated number of noise points: %d\" % n_noise_)\n",
    "\n",
    "print(f\"Silhouette Coefficient: {metrics.silhouette_score(X1, labels):.3f}\")"
   ]
  },
  {
   "cell_type": "code",
   "execution_count": 94,
   "id": "50fed41e",
   "metadata": {},
   "outputs": [
    {
     "name": "stdout",
     "output_type": "stream",
     "text": [
      "Estimated number of clusters: 7\n",
      "Estimated number of noise points: 2050\n",
      "Silhouette Coefficient: -0.225\n"
     ]
    }
   ],
   "source": [
    "db = DBSCAN(eps=0.9, min_samples=15).fit(X1)\n",
    "labels = db.labels_\n",
    "\n",
    "# Number of clusters in labels, ignoring noise if present.\n",
    "n_clusters_ = len(set(labels)) - (1 if -1 in labels else 0)\n",
    "n_noise_ = list(labels).count(-1)\n",
    "\n",
    "print(\"Estimated number of clusters: %d\" % n_clusters_)\n",
    "print(\"Estimated number of noise points: %d\" % n_noise_)\n",
    "\n",
    "print(f\"Silhouette Coefficient: {metrics.silhouette_score(X1, labels):.3f}\")"
   ]
  },
  {
   "cell_type": "code",
   "execution_count": 72,
   "id": "d9cc37b1",
   "metadata": {},
   "outputs": [
    {
     "name": "stdout",
     "output_type": "stream",
     "text": [
      "Estimated number of clusters: 94\n",
      "Estimated number of noise points: 1849\n",
      "Silhouette Coefficient: -0.420\n"
     ]
    }
   ],
   "source": [
    "db = DBSCAN(eps=0.7, min_samples=10).fit(X1)\n",
    "labels = db.labels_\n",
    "\n",
    "# Number of clusters in labels, ignoring noise if present.\n",
    "n_clusters_ = len(set(labels)) - (1 if -1 in labels else 0)\n",
    "n_noise_ = list(labels).count(-1)\n",
    "\n",
    "print(\"Estimated number of clusters: %d\" % n_clusters_)\n",
    "print(\"Estimated number of noise points: %d\" % n_noise_)\n",
    "\n",
    "print(f\"Silhouette Coefficient: {metrics.silhouette_score(X1, labels):.3f}\")"
   ]
  },
  {
   "cell_type": "code",
   "execution_count": 170,
   "id": "ff2b4ab3",
   "metadata": {},
   "outputs": [
    {
     "name": "stdout",
     "output_type": "stream",
     "text": [
      "Estimated number of clusters: 2\n",
      "Estimated number of noise points: 836\n",
      "Silhouette Coefficient: 0.014\n"
     ]
    }
   ],
   "source": [
    "hdb = HDBSCAN(min_cluster_size=4).fit(X1)\n",
    "\n",
    "hdb_labels = hdb.labels_\n",
    "\n",
    "# Number of clusters in labels, ignoring noise if present.\n",
    "hdb_n_clusters_ = len(set(hdb_labels)) - (1 if -1 in hdb_labels else 0)\n",
    "hdb_n_noise_ = list(hdb_labels).count(-1)\n",
    "\n",
    "print(\"Estimated number of clusters: %d\" % hdb_n_clusters_)\n",
    "print(\"Estimated number of noise points: %d\" % hdb_n_noise_)\n",
    "\n",
    "print(f\"Silhouette Coefficient: {metrics.silhouette_score(X1, hdb_labels):.3f}\")"
   ]
  },
  {
   "cell_type": "code",
   "execution_count": null,
   "id": "8ca2e809",
   "metadata": {},
   "outputs": [],
   "source": []
  }
 ],
 "metadata": {
  "kernelspec": {
   "display_name": "Python 3 (ipykernel)",
   "language": "python",
   "name": "python3"
  },
  "language_info": {
   "codemirror_mode": {
    "name": "ipython",
    "version": 3
   },
   "file_extension": ".py",
   "mimetype": "text/x-python",
   "name": "python",
   "nbconvert_exporter": "python",
   "pygments_lexer": "ipython3",
   "version": "3.11.5"
  }
 },
 "nbformat": 4,
 "nbformat_minor": 5
}
